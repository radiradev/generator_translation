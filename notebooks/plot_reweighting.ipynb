{
 "cells": [
  {
   "cell_type": "code",
   "execution_count": 22,
   "metadata": {},
   "outputs": [],
   "source": [
    "import pandas as pd\n",
    "import matplotlib.pyplot as plt\n",
    "import torch\n",
    "import numpy as np\n",
    "import seaborn as sns"
   ]
  },
  {
   "cell_type": "code",
   "execution_count": 80,
   "metadata": {},
   "outputs": [],
   "source": [
    "reweighted_samples_path = '/data/rradev/generator_reweight/reweighted_samples/'\n",
    "col_names =  [\"isNu\", \"isNue\", \"isNumu\", \"isNutau\", \"cc\", \"Enu_true\", \"ELep\", \"CosLep\", \"Q2\", \"W\", \"x\", \"y\", \"nP\", \"nN\", \"nipip\", \"nipim\", \"nipi0\", \"niem\", \"eP\", \"eN\", \"ePip\", \"ePim\", \"ePi0\"]\n",
    "\n",
    "def load_feats_probas():\n",
    "    genie_feats = torch.load(reweighted_samples_path + 'GENIEv2_test_features.pt')\n",
    "    genie_probas = torch.load(reweighted_samples_path + 'GENIEv2_test_probas.pt').detach()\n",
    "    genie = pd.DataFrame(genie_feats, columns=col_names)\n",
    "    genie['probas'] = genie_probas\n",
    "\n",
    "    neut_feats = torch.load(reweighted_samples_path + 'NEUT_test_features.pt')\n",
    "    neut_probas = torch.load(reweighted_samples_path + 'NEUT_test_probas.pt').detach()\n",
    "    neut = pd.DataFrame(neut_feats, columns=col_names)\n",
    "    neut['probas'] = neut_probas\n",
    "    return neut, genie\n",
    "\n",
    "neut, genie = load_feats_probas()"
   ]
  },
  {
   "cell_type": "code",
   "execution_count": 84,
   "metadata": {},
   "outputs": [
    {
     "data": {
      "text/plain": [
       "(array([  1.,   0.,   2.,   0.,   1.,   2.,   4.,   4.,   6.,   6.,  15.,\n",
       "         10.,  12.,  13.,  15.,  26.,  30.,  31.,  49.,  35.,  54.,  67.,\n",
       "         77.,  73.,  99.,  96., 124., 161., 172., 182., 169., 193., 200.,\n",
       "        187., 263., 296., 299., 313., 285., 247., 214., 264., 257., 275.,\n",
       "        253., 269., 286., 294., 277., 266., 281., 234., 257., 253., 230.,\n",
       "        210., 185., 163., 177., 136., 131., 116.,  99.,  99.,  90.,  76.,\n",
       "         59.,  61.,  59.,  31.,  41.,  41.,  35.,  41.,  25.,  30.,  23.,\n",
       "         24.,  11.,  23.,  14.,  26.,  28.,  30.,  28.,  19.,  32.,  29.,\n",
       "         29.,  12.,   8.,  11.,   6.,   5.,   2.,   2.,   0.,   1.,   1.,\n",
       "          2.]),\n",
       " array([0.10931127, 0.11804909, 0.1267869 , 0.13552472, 0.14426254,\n",
       "        0.15300035, 0.16173817, 0.17047599, 0.1792138 , 0.18795162,\n",
       "        0.19668944, 0.20542726, 0.21416508, 0.2229029 , 0.23164071,\n",
       "        0.24037853, 0.24911635, 0.25785416, 0.266592  , 0.2753298 ,\n",
       "        0.28406763, 0.29280543, 0.30154327, 0.31028107, 0.3190189 ,\n",
       "        0.3277567 , 0.33649454, 0.34523234, 0.35397017, 0.36270797,\n",
       "        0.3714458 , 0.3801836 , 0.38892144, 0.39765924, 0.40639707,\n",
       "        0.41513488, 0.4238727 , 0.4326105 , 0.44134834, 0.45008615,\n",
       "        0.45882398, 0.46756178, 0.4762996 , 0.48503742, 0.49377525,\n",
       "        0.50251305, 0.51125085, 0.5199887 , 0.5287265 , 0.5374643 ,\n",
       "        0.5462021 , 0.55494   , 0.5636778 , 0.5724156 , 0.5811534 ,\n",
       "        0.58989125, 0.59862906, 0.60736686, 0.61610466, 0.6248425 ,\n",
       "        0.6335803 , 0.6423181 , 0.65105593, 0.6597938 , 0.6685316 ,\n",
       "        0.6772694 , 0.6860072 , 0.69474506, 0.70348287, 0.71222067,\n",
       "        0.7209585 , 0.72969633, 0.73843414, 0.74717194, 0.75590974,\n",
       "        0.7646476 , 0.7733854 , 0.7821232 , 0.790861  , 0.7995989 ,\n",
       "        0.8083367 , 0.8170745 , 0.8258123 , 0.83455014, 0.84328794,\n",
       "        0.85202575, 0.86076355, 0.8695014 , 0.8782392 , 0.886977  ,\n",
       "        0.8957148 , 0.9044527 , 0.9131905 , 0.9219283 , 0.9306661 ,\n",
       "        0.93940395, 0.94814175, 0.95687956, 0.96561736, 0.9743552 ,\n",
       "        0.983093  ], dtype=float32),\n",
       " <BarContainer object of 100 artists>)"
      ]
     },
     "execution_count": 84,
     "metadata": {},
     "output_type": "execute_result"
    },
    {
     "data": {
      "image/png": "[encoded data removed]",
      "text/plain": [
       "<Figure size 432x288 with 1 Axes>"
      ]
     },
     "metadata": {
      "needs_background": "light"
     },
     "output_type": "display_data"
    }
   ],
   "source": [
    "plt.hist(genie['probas'], bins=100)\n",
    "plt.hist(neut['probas'], bins=100)"
   ]
  }
 ],
 "metadata": {
  "kernelspec": {
   "display_name": "Python 3.10.4 ('generator_translation')",
   "language": "python",
   "name": "python3"
  },
  "language_info": {
   "codemirror_mode": {
    "name": "ipython",
    "version": 3
   },
   "file_extension": ".py",
   "mimetype": "text/x-python",
   "name": "python",
   "nbconvert_exporter": "python",
   "pygments_lexer": "ipython3",
   "version": "3.10.4"
  },
  "orig_nbformat": 4,
  "vscode": {
   "interpreter": {
    "hash": "9e748752e69dde8e9153a9a6b1b5e792ce6f1df06d2864318e566c020b8d5d20"
   }
  }
 },
 "nbformat": 4,
 "nbformat_minor": 2
}
