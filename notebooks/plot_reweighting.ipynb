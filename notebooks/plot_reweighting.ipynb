{
 "cells": [
  {
   "cell_type": "code",
   "execution_count": 1,
   "metadata": {},
   "outputs": [],
   "source": [
    "import pandas as pd\n",
    "\n",
    "import matplotlib.pyplot as plt\n",
    "import torch\n",
    "import numpy as np\n",
    "import seaborn as sns"
   ]
  },
  {
   "cell_type": "code",
   "execution_count": 76,
   "metadata": {},
   "outputs": [],
   "source": [
    "reweighted_samples_path = '/data/rradev/generator_reweight/reweighted_samples/'\n",
    "col_names =  [\"isNu\", \"isNue\", \"isNumu\", \"isNutau\", \"cc\", \"Enu_true\", \"ELep\", \"CosLep\", \"Q2\", \"W\", \"x\", \"y\", \"nP\", \"nN\", \"nipip\", \"nipim\", \"nipi0\", \"niem\", \"eP\", \"eN\", \"ePip\", \"ePim\", \"ePi0\"]\n",
    "\n",
    "def load_feats_probas():\n",
    "    genie_feats = torch.load(reweighted_samples_path + 'GENIEv2_test_features.pt')\n",
    "    genie_probas = torch.load(reweighted_samples_path + 'GENIEv2_test_probas.pt').detach()\n",
    "    genie = pd.DataFrame(genie_feats, columns=col_names)\n",
    "    genie['probas'] = genie_probas\n",
    "\n",
    "    neut_feats = torch.load(reweighted_samples_path + 'NEUT_test_features.pt')\n",
    "    neut_probas = torch.load(reweighted_samples_path + 'NEUT_test_probas.pt').detach()\n",
    "    neut = pd.DataFrame(neut_feats, columns=col_names)\n",
    "    neut['probas'] = neut_probas\n",
    "    return neut, genie\n",
    "\n",
    "neut, genie = load_feats_probas()\n",
    "neut = neut[neut['ELep'] > 0] #only charged current interactions\n",
    "neut_probas = neut['probas'][neut['ELep'] > 0]\n",
    "neut_reweighted = neut.mul(neut['probas'], axis='index')"
   ]
  },
  {
   "cell_type": "markdown",
   "metadata": {},
   "source": [
    "# Make Some Plots"
   ]
  },
  {
   "cell_type": "code",
   "execution_count": 77,
   "metadata": {},
   "outputs": [
    {
     "data": {
      "text/plain": [
       "(0.0, 500.0)"
      ]
     },
     "execution_count": 77,
     "metadata": {},
     "output_type": "execute_result"
    },
    {
     "data": {
      "image/png": "[encoded data removed]",
      "text/plain": [
       "<Figure size 576x432 with 1 Axes>"
      ]
     },
     "metadata": {
      "needs_background": "light"
     },
     "output_type": "display_data"
    }
   ],
   "source": [
    "plt.rcParams['figure.figsize'] = (8, 6)\n",
    "plt.hist(genie['probas'], bins=70, histtype=\"step\", label='GENIE')\n",
    "plt.hist(neut['probas'], bins=70, histtype=\"step\", label='NEUT')\n",
    "plt.legend()\n",
    "plt.title('NN Output')\n",
    "plt.ylim(0, 500)"
   ]
  },
  {
   "cell_type": "code",
   "execution_count": 116,
   "metadata": {},
   "outputs": [
    {
     "data": {
      "text/plain": [
       "0.8073762277009421"
      ]
     },
     "execution_count": 116,
     "metadata": {},
     "output_type": "execute_result"
    }
   ],
   "source": [
    "neut_predicitons = [1 if proba > 0.5 else 0 for proba in neut['probas']]\n",
    "np.sum(neut_predicitons)/len(neut_predicitons)"
   ]
  },
  {
   "cell_type": "code",
   "execution_count": 117,
   "metadata": {},
   "outputs": [
    {
     "data": {
      "text/plain": [
       "0.5814"
      ]
     },
     "execution_count": 117,
     "metadata": {},
     "output_type": "execute_result"
    }
   ],
   "source": [
    "genie_predictions = [1 if proba < 0.5 else 0 for proba in genie['probas']]\n",
    "np.sum(genie_predictions)/len(genie_predictions)"
   ]
  },
  {
   "cell_type": "code",
   "execution_count": 78,
   "metadata": {},
   "outputs": [
    {
     "data": {
      "image/png": "[encoded data removed]",
      "text/plain": [
       "<Figure size 576x432 with 1 Axes>"
      ]
     },
     "metadata": {
      "needs_background": "light"
     },
     "output_type": "display_data"
    }
   ],
   "source": [
    "def plot_variable(variable):\n",
    "    plt.hist(neut_reweighted[variable], bins=100, label='GENIE(NEUT)', histtype='step',);\n",
    "    plt.hist(neut[variable], bins=100, label='NEUT', histtype='step')\n",
    "    plt.hist(genie[variable], bins=100, label='GENIE', histtype='step')\n",
    "    plt.legend()\n",
    "\n",
    "variable = 'x' \n",
    "plot_variable(variable)"
   ]
  },
  {
   "cell_type": "code",
   "execution_count": 79,
   "metadata": {},
   "outputs": [
    {
     "data": {
      "text/html": [
       "<div>\n",
       "<style scoped>\n",
       "    .dataframe tbody tr th:only-of-type {\n",
       "        vertical-align: middle;\n",
       "    }\n",
       "\n",
       "    .dataframe tbody tr th {\n",
       "        vertical-align: top;\n",
       "    }\n",
       "\n",
       "    .dataframe thead th {\n",
       "        text-align: right;\n",
       "    }\n",
       "</style>\n",
       "<table border=\"1\" class=\"dataframe\">\n",
       "  <thead>\n",
       "    <tr style=\"text-align: right;\">\n",
       "      <th></th>\n",
       "      <th>isNu</th>\n",
       "      <th>isNue</th>\n",
       "      <th>isNumu</th>\n",
       "      <th>isNutau</th>\n",
       "      <th>cc</th>\n",
       "      <th>Enu_true</th>\n",
       "      <th>ELep</th>\n",
       "      <th>CosLep</th>\n",
       "      <th>Q2</th>\n",
       "      <th>W</th>\n",
       "      <th>...</th>\n",
       "      <th>nipip</th>\n",
       "      <th>nipim</th>\n",
       "      <th>nipi0</th>\n",
       "      <th>niem</th>\n",
       "      <th>eP</th>\n",
       "      <th>eN</th>\n",
       "      <th>ePip</th>\n",
       "      <th>ePim</th>\n",
       "      <th>ePi0</th>\n",
       "      <th>probas</th>\n",
       "    </tr>\n",
       "  </thead>\n",
       "  <tbody>\n",
       "    <tr>\n",
       "      <th>2</th>\n",
       "      <td>1.0</td>\n",
       "      <td>1.0</td>\n",
       "      <td>0.0</td>\n",
       "      <td>0.0</td>\n",
       "      <td>0.0</td>\n",
       "      <td>44.033806</td>\n",
       "      <td>36.898781</td>\n",
       "      <td>0.997784</td>\n",
       "      <td>7.202397</td>\n",
       "      <td>2.658410</td>\n",
       "      <td>...</td>\n",
       "      <td>1.0</td>\n",
       "      <td>1.0</td>\n",
       "      <td>1.0</td>\n",
       "      <td>0.0</td>\n",
       "      <td>0.737374</td>\n",
       "      <td>0.381319</td>\n",
       "      <td>0.548588</td>\n",
       "      <td>2.940048</td>\n",
       "      <td>2.105249</td>\n",
       "      <td>0.998111</td>\n",
       "    </tr>\n",
       "    <tr>\n",
       "      <th>5</th>\n",
       "      <td>1.0</td>\n",
       "      <td>1.0</td>\n",
       "      <td>0.0</td>\n",
       "      <td>0.0</td>\n",
       "      <td>0.0</td>\n",
       "      <td>16.063305</td>\n",
       "      <td>13.483300</td>\n",
       "      <td>0.999597</td>\n",
       "      <td>0.174561</td>\n",
       "      <td>2.355268</td>\n",
       "      <td>...</td>\n",
       "      <td>1.0</td>\n",
       "      <td>1.0</td>\n",
       "      <td>0.0</td>\n",
       "      <td>0.0</td>\n",
       "      <td>0.052496</td>\n",
       "      <td>0.165814</td>\n",
       "      <td>0.062342</td>\n",
       "      <td>2.039179</td>\n",
       "      <td>0.000000</td>\n",
       "      <td>0.999798</td>\n",
       "    </tr>\n",
       "    <tr>\n",
       "      <th>8</th>\n",
       "      <td>1.0</td>\n",
       "      <td>1.0</td>\n",
       "      <td>0.0</td>\n",
       "      <td>0.0</td>\n",
       "      <td>0.0</td>\n",
       "      <td>20.790876</td>\n",
       "      <td>14.269891</td>\n",
       "      <td>0.994548</td>\n",
       "      <td>3.235195</td>\n",
       "      <td>3.143577</td>\n",
       "      <td>...</td>\n",
       "      <td>2.0</td>\n",
       "      <td>2.0</td>\n",
       "      <td>1.0</td>\n",
       "      <td>0.0</td>\n",
       "      <td>0.000000</td>\n",
       "      <td>2.268752</td>\n",
       "      <td>2.637325</td>\n",
       "      <td>0.888498</td>\n",
       "      <td>0.053073</td>\n",
       "      <td>0.999697</td>\n",
       "    </tr>\n",
       "    <tr>\n",
       "      <th>9</th>\n",
       "      <td>1.0</td>\n",
       "      <td>1.0</td>\n",
       "      <td>0.0</td>\n",
       "      <td>0.0</td>\n",
       "      <td>0.0</td>\n",
       "      <td>35.751133</td>\n",
       "      <td>23.448002</td>\n",
       "      <td>0.996036</td>\n",
       "      <td>6.646723</td>\n",
       "      <td>4.161850</td>\n",
       "      <td>...</td>\n",
       "      <td>2.0</td>\n",
       "      <td>1.0</td>\n",
       "      <td>2.0</td>\n",
       "      <td>0.0</td>\n",
       "      <td>0.000000</td>\n",
       "      <td>9.440070</td>\n",
       "      <td>1.441488</td>\n",
       "      <td>0.215806</td>\n",
       "      <td>0.478960</td>\n",
       "      <td>0.000042</td>\n",
       "    </tr>\n",
       "    <tr>\n",
       "      <th>16</th>\n",
       "      <td>1.0</td>\n",
       "      <td>1.0</td>\n",
       "      <td>0.0</td>\n",
       "      <td>0.0</td>\n",
       "      <td>0.0</td>\n",
       "      <td>47.340103</td>\n",
       "      <td>33.450600</td>\n",
       "      <td>0.996114</td>\n",
       "      <td>12.306157</td>\n",
       "      <td>3.826024</td>\n",
       "      <td>...</td>\n",
       "      <td>2.0</td>\n",
       "      <td>2.0</td>\n",
       "      <td>1.0</td>\n",
       "      <td>0.0</td>\n",
       "      <td>0.000000</td>\n",
       "      <td>2.216844</td>\n",
       "      <td>4.544314</td>\n",
       "      <td>1.622966</td>\n",
       "      <td>4.821211</td>\n",
       "      <td>0.999376</td>\n",
       "    </tr>\n",
       "    <tr>\n",
       "      <th>...</th>\n",
       "      <td>...</td>\n",
       "      <td>...</td>\n",
       "      <td>...</td>\n",
       "      <td>...</td>\n",
       "      <td>...</td>\n",
       "      <td>...</td>\n",
       "      <td>...</td>\n",
       "      <td>...</td>\n",
       "      <td>...</td>\n",
       "      <td>...</td>\n",
       "      <td>...</td>\n",
       "      <td>...</td>\n",
       "      <td>...</td>\n",
       "      <td>...</td>\n",
       "      <td>...</td>\n",
       "      <td>...</td>\n",
       "      <td>...</td>\n",
       "      <td>...</td>\n",
       "      <td>...</td>\n",
       "      <td>...</td>\n",
       "      <td>...</td>\n",
       "    </tr>\n",
       "    <tr>\n",
       "      <th>9987</th>\n",
       "      <td>1.0</td>\n",
       "      <td>1.0</td>\n",
       "      <td>0.0</td>\n",
       "      <td>0.0</td>\n",
       "      <td>0.0</td>\n",
       "      <td>43.058254</td>\n",
       "      <td>20.412838</td>\n",
       "      <td>0.997821</td>\n",
       "      <td>3.830701</td>\n",
       "      <td>6.288464</td>\n",
       "      <td>...</td>\n",
       "      <td>2.0</td>\n",
       "      <td>2.0</td>\n",
       "      <td>0.0</td>\n",
       "      <td>0.0</td>\n",
       "      <td>0.000000</td>\n",
       "      <td>0.196688</td>\n",
       "      <td>5.281088</td>\n",
       "      <td>16.630144</td>\n",
       "      <td>0.000000</td>\n",
       "      <td>1.000000</td>\n",
       "    </tr>\n",
       "    <tr>\n",
       "      <th>9988</th>\n",
       "      <td>1.0</td>\n",
       "      <td>1.0</td>\n",
       "      <td>0.0</td>\n",
       "      <td>0.0</td>\n",
       "      <td>0.0</td>\n",
       "      <td>30.541231</td>\n",
       "      <td>25.820940</td>\n",
       "      <td>0.997774</td>\n",
       "      <td>3.510314</td>\n",
       "      <td>2.495571</td>\n",
       "      <td>...</td>\n",
       "      <td>0.0</td>\n",
       "      <td>1.0</td>\n",
       "      <td>2.0</td>\n",
       "      <td>0.0</td>\n",
       "      <td>0.268321</td>\n",
       "      <td>0.043131</td>\n",
       "      <td>0.000000</td>\n",
       "      <td>3.053265</td>\n",
       "      <td>0.868950</td>\n",
       "      <td>1.000000</td>\n",
       "    </tr>\n",
       "    <tr>\n",
       "      <th>9989</th>\n",
       "      <td>1.0</td>\n",
       "      <td>1.0</td>\n",
       "      <td>0.0</td>\n",
       "      <td>0.0</td>\n",
       "      <td>0.0</td>\n",
       "      <td>13.481216</td>\n",
       "      <td>3.032085</td>\n",
       "      <td>0.904279</td>\n",
       "      <td>7.825451</td>\n",
       "      <td>3.558534</td>\n",
       "      <td>...</td>\n",
       "      <td>0.0</td>\n",
       "      <td>1.0</td>\n",
       "      <td>2.0</td>\n",
       "      <td>0.0</td>\n",
       "      <td>1.563961</td>\n",
       "      <td>0.029819</td>\n",
       "      <td>0.000000</td>\n",
       "      <td>1.069972</td>\n",
       "      <td>7.387674</td>\n",
       "      <td>0.995930</td>\n",
       "    </tr>\n",
       "    <tr>\n",
       "      <th>9992</th>\n",
       "      <td>1.0</td>\n",
       "      <td>0.0</td>\n",
       "      <td>1.0</td>\n",
       "      <td>0.0</td>\n",
       "      <td>0.0</td>\n",
       "      <td>44.935028</td>\n",
       "      <td>11.958218</td>\n",
       "      <td>0.990318</td>\n",
       "      <td>10.405519</td>\n",
       "      <td>7.235833</td>\n",
       "      <td>...</td>\n",
       "      <td>4.0</td>\n",
       "      <td>5.0</td>\n",
       "      <td>6.0</td>\n",
       "      <td>0.0</td>\n",
       "      <td>1.303853</td>\n",
       "      <td>1.530373</td>\n",
       "      <td>12.843102</td>\n",
       "      <td>1.051874</td>\n",
       "      <td>13.147961</td>\n",
       "      <td>0.999626</td>\n",
       "    </tr>\n",
       "    <tr>\n",
       "      <th>9997</th>\n",
       "      <td>1.0</td>\n",
       "      <td>1.0</td>\n",
       "      <td>0.0</td>\n",
       "      <td>0.0</td>\n",
       "      <td>0.0</td>\n",
       "      <td>20.544104</td>\n",
       "      <td>15.461175</td>\n",
       "      <td>0.997537</td>\n",
       "      <td>1.564596</td>\n",
       "      <td>2.975584</td>\n",
       "      <td>...</td>\n",
       "      <td>2.0</td>\n",
       "      <td>0.0</td>\n",
       "      <td>2.0</td>\n",
       "      <td>0.0</td>\n",
       "      <td>0.290318</td>\n",
       "      <td>0.107889</td>\n",
       "      <td>3.542170</td>\n",
       "      <td>0.000000</td>\n",
       "      <td>0.608578</td>\n",
       "      <td>0.931439</td>\n",
       "    </tr>\n",
       "  </tbody>\n",
       "</table>\n",
       "<p>2302 rows × 24 columns</p>\n",
       "</div>"
      ],
      "text/plain": [
       "      isNu  isNue  isNumu  isNutau   cc   Enu_true       ELep    CosLep  \\\n",
       "2      1.0    1.0     0.0      0.0  0.0  44.033806  36.898781  0.997784   \n",
       "5      1.0    1.0     0.0      0.0  0.0  16.063305  13.483300  0.999597   \n",
       "8      1.0    1.0     0.0      0.0  0.0  20.790876  14.269891  0.994548   \n",
       "9      1.0    1.0     0.0      0.0  0.0  35.751133  23.448002  0.996036   \n",
       "16     1.0    1.0     0.0      0.0  0.0  47.340103  33.450600  0.996114   \n",
       "...    ...    ...     ...      ...  ...        ...        ...       ...   \n",
       "9987   1.0    1.0     0.0      0.0  0.0  43.058254  20.412838  0.997821   \n",
       "9988   1.0    1.0     0.0      0.0  0.0  30.541231  25.820940  0.997774   \n",
       "9989   1.0    1.0     0.0      0.0  0.0  13.481216   3.032085  0.904279   \n",
       "9992   1.0    0.0     1.0      0.0  0.0  44.935028  11.958218  0.990318   \n",
       "9997   1.0    1.0     0.0      0.0  0.0  20.544104  15.461175  0.997537   \n",
       "\n",
       "             Q2         W  ...  nipip  nipim  nipi0  niem        eP        eN  \\\n",
       "2      7.202397  2.658410  ...    1.0    1.0    1.0   0.0  0.737374  0.381319   \n",
       "5      0.174561  2.355268  ...    1.0    1.0    0.0   0.0  0.052496  0.165814   \n",
       "8      3.235195  3.143577  ...    2.0    2.0    1.0   0.0  0.000000  2.268752   \n",
       "9      6.646723  4.161850  ...    2.0    1.0    2.0   0.0  0.000000  9.440070   \n",
       "16    12.306157  3.826024  ...    2.0    2.0    1.0   0.0  0.000000  2.216844   \n",
       "...         ...       ...  ...    ...    ...    ...   ...       ...       ...   \n",
       "9987   3.830701  6.288464  ...    2.0    2.0    0.0   0.0  0.000000  0.196688   \n",
       "9988   3.510314  2.495571  ...    0.0    1.0    2.0   0.0  0.268321  0.043131   \n",
       "9989   7.825451  3.558534  ...    0.0    1.0    2.0   0.0  1.563961  0.029819   \n",
       "9992  10.405519  7.235833  ...    4.0    5.0    6.0   0.0  1.303853  1.530373   \n",
       "9997   1.564596  2.975584  ...    2.0    0.0    2.0   0.0  0.290318  0.107889   \n",
       "\n",
       "           ePip       ePim       ePi0    probas  \n",
       "2      0.548588   2.940048   2.105249  0.998111  \n",
       "5      0.062342   2.039179   0.000000  0.999798  \n",
       "8      2.637325   0.888498   0.053073  0.999697  \n",
       "9      1.441488   0.215806   0.478960  0.000042  \n",
       "16     4.544314   1.622966   4.821211  0.999376  \n",
       "...         ...        ...        ...       ...  \n",
       "9987   5.281088  16.630144   0.000000  1.000000  \n",
       "9988   0.000000   3.053265   0.868950  1.000000  \n",
       "9989   0.000000   1.069972   7.387674  0.995930  \n",
       "9992  12.843102   1.051874  13.147961  0.999626  \n",
       "9997   3.542170   0.000000   0.608578  0.931439  \n",
       "\n",
       "[2302 rows x 24 columns]"
      ]
     },
     "execution_count": 79,
     "metadata": {},
     "output_type": "execute_result"
    }
   ],
   "source": [
    "neut[neut['cc'] == 0]"
   ]
  },
  {
   "cell_type": "code",
   "execution_count": 107,
   "metadata": {},
   "outputs": [
    {
     "data": {
      "text/plain": [
       "<AxesSubplot:xlabel='nN', ylabel='Count'>"
      ]
     },
     "execution_count": 107,
     "metadata": {},
     "output_type": "execute_result"
    },
    {
     "data": {
      "image/png": "[encoded data removed]",
      "text/plain": [
       "<Figure size 576x432 with 1 Axes>"
      ]
     },
     "metadata": {
      "needs_background": "light"
     },
     "output_type": "display_data"
    }
   ],
   "source": [
    "genie['generator'] = 'GENIE'\n",
    "neut['generator'] = 'Reweighted'\n",
    "neut_reweighted['generator'] = 'NEUT'\n",
    "all_dfs = pd.concat([genie, neut, neut_reweighted], ignore_index=True)\n",
    "sns.histplot(genie['nN'], discrete=True)\n",
    "sns.histplot(neut['nN'], discrete=True, color='red', fill=False)\n",
    "sns.histplot(neut_reweighted['nN'], discrete=True, color='green', fill=False)"
   ]
  }
 ],
 "metadata": {
  "kernelspec": {
   "display_name": "Python 3.10.4 ('generator_translation')",
   "language": "python",
   "name": "python3"
  },
  "language_info": {
   "codemirror_mode": {
    "name": "ipython",
    "version": 3
   },
   "file_extension": ".py",
   "mimetype": "text/x-python",
   "name": "python",
   "nbconvert_exporter": "python",
   "pygments_lexer": "ipython3",
   "version": "3.10.4"
  },
  "orig_nbformat": 4,
  "vscode": {
   "interpreter": {
    "hash": "9e748752e69dde8e9153a9a6b1b5e792ce6f1df06d2864318e566c020b8d5d20"
   }
  }
 },
 "nbformat": 4,
 "nbformat_minor": 2
}
