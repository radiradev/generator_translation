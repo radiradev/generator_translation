{
 "cells": [
  {
   "cell_type": "code",
   "execution_count": 1,
   "metadata": {},
   "outputs": [],
   "source": [
    "import h5py\n",
    "import pandas as pd\n",
    "import seaborn as sns"
   ]
  },
  {
   "cell_type": "code",
   "execution_count": 2,
   "metadata": {},
   "outputs": [],
   "source": [
    "!kinit -k -t rradev.keytab rradev@CERN.CH "
   ]
  },
  {
   "cell_type": "code",
   "execution_count": 3,
   "metadata": {},
   "outputs": [],
   "source": [
    "HOME_DIR = '/eos/home-r/rradev/generator_reweigthing/'\n",
    "genie_dir = 'argon_GENIEv2.h5'\n",
    "genie_data = h5py.File(HOME_DIR + genie_dir)"
   ]
  },
  {
   "cell_type": "code",
   "execution_count": 6,
   "metadata": {},
   "outputs": [],
   "source": [
    "genie_train = genie_data['train_data']\n",
    "col_names = [\"isNu\", \"isNue\", \"isNumu\", \"isNutau\", \"cc\", \"Enu_true\", \"ELep\", \"CosLep\", \"Q2\", \"W\", \"x\", \"y\", \"nP\", \"nN\", \"nipip\", \"nipim\", \"nipi0\", \"niem\", \"eP\", \"eN\", \"ePip\", \"ePim\", \"ePi0\"]\n",
    "\n",
    "genie_train = pd.DataFrame(data=genie_train, columns=col_names)"
   ]
  },
  {
   "cell_type": "code",
   "execution_count": 22,
   "metadata": {},
   "outputs": [
    {
     "data": {
      "text/plain": [
       "19900000"
      ]
     },
     "execution_count": 22,
     "metadata": {},
     "output_type": "execute_result"
    }
   ],
   "source": [
    "neut.to_parquet()"
   ]
  },
  {
   "cell_type": "code",
   "execution_count": 25,
   "metadata": {},
   "outputs": [
    {
     "ename": "BlockingIOError",
     "evalue": "[Errno 11] Unable to open file (unable to lock file, errno = 11, error message = 'Resource temporarily unavailable')",
     "output_type": "error",
     "traceback": [
      "\u001b[0;31m---------------------------------------------------------------------------\u001b[0m",
      "\u001b[0;31mBlockingIOError\u001b[0m                           Traceback (most recent call last)",
      "\u001b[1;32m/data/rradev/generator_reweight/notebooks/data_exploration.ipynb Cell 6'\u001b[0m in \u001b[0;36m<cell line: 2>\u001b[0;34m()\u001b[0m\n\u001b[1;32m      <a href='vscode-notebook-cell://ssh-remote%2Bepnu-gpu03/data/rradev/generator_reweight/notebooks/data_exploration.ipynb#ch0000004vscode-remote?line=0'>1</a>\u001b[0m genie_dir \u001b[39m=\u001b[39m \u001b[39m'\u001b[39m\u001b[39margon_NEUT.h5\u001b[39m\u001b[39m'\u001b[39m\n\u001b[0;32m----> <a href='vscode-notebook-cell://ssh-remote%2Bepnu-gpu03/data/rradev/generator_reweight/notebooks/data_exploration.ipynb#ch0000004vscode-remote?line=1'>2</a>\u001b[0m genie_data \u001b[39m=\u001b[39m h5py\u001b[39m.\u001b[39;49mFile(HOME_DIR \u001b[39m+\u001b[39;49m genie_dir)\n\u001b[1;32m      <a href='vscode-notebook-cell://ssh-remote%2Bepnu-gpu03/data/rradev/generator_reweight/notebooks/data_exploration.ipynb#ch0000004vscode-remote?line=2'>3</a>\u001b[0m genie_data \u001b[39m=\u001b[39m genie_data[\u001b[39m'\u001b[39m\u001b[39mtest_data\u001b[39m\u001b[39m'\u001b[39m]\n\u001b[1;32m      <a href='vscode-notebook-cell://ssh-remote%2Bepnu-gpu03/data/rradev/generator_reweight/notebooks/data_exploration.ipynb#ch0000004vscode-remote?line=4'>5</a>\u001b[0m genie \u001b[39m=\u001b[39m pd\u001b[39m.\u001b[39mDataFrame(data\u001b[39m=\u001b[39mneut_data, columns\u001b[39m=\u001b[39mcol_names)\n",
      "File \u001b[0;32m~/envs/generator_translation/lib/python3.10/site-packages/h5py/_hl/files.py:507\u001b[0m, in \u001b[0;36mFile.__init__\u001b[0;34m(self, name, mode, driver, libver, userblock_size, swmr, rdcc_nslots, rdcc_nbytes, rdcc_w0, track_order, fs_strategy, fs_persist, fs_threshold, fs_page_size, page_buf_size, min_meta_keep, min_raw_keep, locking, **kwds)\u001b[0m\n\u001b[1;32m    <a href='file:///afs/cern.ch/user/r/rradev/envs/generator_translation/lib/python3.10/site-packages/h5py/_hl/files.py?line=501'>502</a>\u001b[0m     fapl \u001b[39m=\u001b[39m make_fapl(driver, libver, rdcc_nslots, rdcc_nbytes, rdcc_w0,\n\u001b[1;32m    <a href='file:///afs/cern.ch/user/r/rradev/envs/generator_translation/lib/python3.10/site-packages/h5py/_hl/files.py?line=502'>503</a>\u001b[0m                      locking, page_buf_size, min_meta_keep, min_raw_keep, \u001b[39m*\u001b[39m\u001b[39m*\u001b[39mkwds)\n\u001b[1;32m    <a href='file:///afs/cern.ch/user/r/rradev/envs/generator_translation/lib/python3.10/site-packages/h5py/_hl/files.py?line=503'>504</a>\u001b[0m     fcpl \u001b[39m=\u001b[39m make_fcpl(track_order\u001b[39m=\u001b[39mtrack_order, fs_strategy\u001b[39m=\u001b[39mfs_strategy,\n\u001b[1;32m    <a href='file:///afs/cern.ch/user/r/rradev/envs/generator_translation/lib/python3.10/site-packages/h5py/_hl/files.py?line=504'>505</a>\u001b[0m                      fs_persist\u001b[39m=\u001b[39mfs_persist, fs_threshold\u001b[39m=\u001b[39mfs_threshold,\n\u001b[1;32m    <a href='file:///afs/cern.ch/user/r/rradev/envs/generator_translation/lib/python3.10/site-packages/h5py/_hl/files.py?line=505'>506</a>\u001b[0m                      fs_page_size\u001b[39m=\u001b[39mfs_page_size)\n\u001b[0;32m--> <a href='file:///afs/cern.ch/user/r/rradev/envs/generator_translation/lib/python3.10/site-packages/h5py/_hl/files.py?line=506'>507</a>\u001b[0m     fid \u001b[39m=\u001b[39m make_fid(name, mode, userblock_size, fapl, fcpl, swmr\u001b[39m=\u001b[39;49mswmr)\n\u001b[1;32m    <a href='file:///afs/cern.ch/user/r/rradev/envs/generator_translation/lib/python3.10/site-packages/h5py/_hl/files.py?line=508'>509</a>\u001b[0m \u001b[39mif\u001b[39;00m \u001b[39misinstance\u001b[39m(libver, \u001b[39mtuple\u001b[39m):\n\u001b[1;32m    <a href='file:///afs/cern.ch/user/r/rradev/envs/generator_translation/lib/python3.10/site-packages/h5py/_hl/files.py?line=509'>510</a>\u001b[0m     \u001b[39mself\u001b[39m\u001b[39m.\u001b[39m_libver \u001b[39m=\u001b[39m libver\n",
      "File \u001b[0;32m~/envs/generator_translation/lib/python3.10/site-packages/h5py/_hl/files.py:220\u001b[0m, in \u001b[0;36mmake_fid\u001b[0;34m(name, mode, userblock_size, fapl, fcpl, swmr)\u001b[0m\n\u001b[1;32m    <a href='file:///afs/cern.ch/user/r/rradev/envs/generator_translation/lib/python3.10/site-packages/h5py/_hl/files.py?line=217'>218</a>\u001b[0m     \u001b[39mif\u001b[39;00m swmr \u001b[39mand\u001b[39;00m swmr_support:\n\u001b[1;32m    <a href='file:///afs/cern.ch/user/r/rradev/envs/generator_translation/lib/python3.10/site-packages/h5py/_hl/files.py?line=218'>219</a>\u001b[0m         flags \u001b[39m|\u001b[39m\u001b[39m=\u001b[39m h5f\u001b[39m.\u001b[39mACC_SWMR_READ\n\u001b[0;32m--> <a href='file:///afs/cern.ch/user/r/rradev/envs/generator_translation/lib/python3.10/site-packages/h5py/_hl/files.py?line=219'>220</a>\u001b[0m     fid \u001b[39m=\u001b[39m h5f\u001b[39m.\u001b[39;49mopen(name, flags, fapl\u001b[39m=\u001b[39;49mfapl)\n\u001b[1;32m    <a href='file:///afs/cern.ch/user/r/rradev/envs/generator_translation/lib/python3.10/site-packages/h5py/_hl/files.py?line=220'>221</a>\u001b[0m \u001b[39melif\u001b[39;00m mode \u001b[39m==\u001b[39m \u001b[39m'\u001b[39m\u001b[39mr+\u001b[39m\u001b[39m'\u001b[39m:\n\u001b[1;32m    <a href='file:///afs/cern.ch/user/r/rradev/envs/generator_translation/lib/python3.10/site-packages/h5py/_hl/files.py?line=221'>222</a>\u001b[0m     fid \u001b[39m=\u001b[39m h5f\u001b[39m.\u001b[39mopen(name, h5f\u001b[39m.\u001b[39mACC_RDWR, fapl\u001b[39m=\u001b[39mfapl)\n",
      "File \u001b[0;32mh5py/_objects.pyx:54\u001b[0m, in \u001b[0;36mh5py._objects.with_phil.wrapper\u001b[0;34m()\u001b[0m\n",
      "File \u001b[0;32mh5py/_objects.pyx:55\u001b[0m, in \u001b[0;36mh5py._objects.with_phil.wrapper\u001b[0;34m()\u001b[0m\n",
      "File \u001b[0;32mh5py/h5f.pyx:106\u001b[0m, in \u001b[0;36mh5py.h5f.open\u001b[0;34m()\u001b[0m\n",
      "\u001b[0;31mBlockingIOError\u001b[0m: [Errno 11] Unable to open file (unable to lock file, errno = 11, error message = 'Resource temporarily unavailable')"
     ]
    }
   ],
   "source": [
    "genie_dir = 'argon_NEUT.h5'\n",
    "genie_data = h5py.File(HOME_DIR + genie_dir)\n",
    "genie_data = genie_data['test_data']\n",
    "\n",
    "genie = pd.DataFrame(data=neut_data, columns=col_names)\n",
    "genie.head()"
   ]
  }
 ],
 "metadata": {
  "interpreter": {
   "hash": "9e748752e69dde8e9153a9a6b1b5e792ce6f1df06d2864318e566c020b8d5d20"
  },
  "kernelspec": {
   "display_name": "Python 3.10.4 ('generator_translation')",
   "language": "python",
   "name": "python3"
  },
  "language_info": {
   "codemirror_mode": {
    "name": "ipython",
    "version": 3
   },
   "file_extension": ".py",
   "mimetype": "text/x-python",
   "name": "python",
   "nbconvert_exporter": "python",
   "pygments_lexer": "ipython3",
   "version": "3.10.4"
  },
  "orig_nbformat": 4
 },
 "nbformat": 4,
 "nbformat_minor": 2
}
